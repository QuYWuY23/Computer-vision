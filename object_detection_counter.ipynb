{
 "cells": [
  {
   "cell_type": "code",
   "execution_count": 6,
   "metadata": {},
   "outputs": [
    {
     "data": {
      "text/plain": [
       "-1"
      ]
     },
     "execution_count": 6,
     "metadata": {},
     "output_type": "execute_result"
    }
   ],
   "source": [
    "import numpy as np\n",
    "import cv2\n",
    "\n",
    "cv2.namedWindow('rgb')\n",
    "cv2.createTrackbar('h', 'rgb', 0,255, lambda i : i)\n",
    "cv2.createTrackbar('s', 'rgb', 0,255, lambda i : i)\n",
    "cv2.createTrackbar('v', 'rgb', 0,255, lambda i : i)\n",
    "\n",
    "img = np.zeros((1000,1000,3), np.uint8)\n",
    "\n",
    "while(True):\n",
    "\n",
    "    h = cv2.getTrackbarPos('h', 'rgb')\n",
    "    s = cv2.getTrackbarPos('s', 'rgb')\n",
    "    v = cv2.getTrackbarPos('v', 'rgb')\n",
    "\n",
    "    img[:, :,0] = h\n",
    "    img[:, :,1] = s\n",
    "    img[:, :,2] = v\n",
    "\n",
    "    rgb = cv2.cvtColor(img, cv2.COLOR_HSV2BGR)\n",
    "\n",
    "    cv2.imshow('rgb', rgb)\n",
    "\n",
    "    key = cv2.waitKey(70)# & 0xFF\n",
    "\n",
    "    if (key == ord('q')):\n",
    "        break\n",
    "\n",
    "cv2.destroyAllWindows()\n",
    "cv2.waitKey(30)\n"
   ]
  },
  {
   "cell_type": "code",
   "execution_count": 13,
   "metadata": {},
   "outputs": [
    {
     "data": {
      "text/plain": [
       "0.0"
      ]
     },
     "execution_count": 13,
     "metadata": {},
     "output_type": "execute_result"
    }
   ],
   "source": [
    "previous_frame  = np.zeros((540,960,3))\n",
    "previous_frame.shape\n",
    "previous_frame.mean()"
   ]
  },
  {
   "cell_type": "code",
   "execution_count": 12,
   "metadata": {},
   "outputs": [
    {
     "name": "stdout",
     "output_type": "stream",
     "text": [
      "-1\n",
      "0\n",
      "1\n",
      "0\n"
     ]
    },
    {
     "data": {
      "text/plain": [
       "-1"
      ]
     },
     "execution_count": 12,
     "metadata": {},
     "output_type": "execute_result"
    }
   ],
   "source": [
    "import numpy as np\n",
    "import cv2\n",
    "import time\n",
    "import json\n",
    "import os\n",
    "\n",
    "def nothing(i):\n",
    "    pass\n",
    "\n",
    "if os.path.exists('colors.json'):\n",
    "    pass\n",
    "else:\n",
    "    data = [0,0,0,0,0,0]\n",
    "    with open ('colors.json', 'w') as f:\n",
    "        json.dump(data, f)\n",
    "\n",
    "\n",
    "with open ('colors.json', 'r') as f:\n",
    "    try:\n",
    "        data = json.load(f)\n",
    "    except:\n",
    "        data = [0,0,0,0,0,0]\n",
    "\n",
    "obj_coord = []\n",
    "obj_time = []\n",
    "left_Artem = []\n",
    "\n",
    "cv2.namedWindow('mask1')\n",
    "\n",
    "\n",
    "#cam = cv2.VideoCapture('video_2025-02-26_01-33-04.mp4')\n",
    "#cam = cv2.VideoCapture('video_2025-02-27_00-07-05.mp4')\n",
    "#cam = cv2.VideoCapture(0)\n",
    "cam = cv2.VideoCapture('video_2025-02-27_02-27-23.mp4')\n",
    "\n",
    "avg = np.zeros((540,960,3), np.uint8)\n",
    "previous_frame  = np.zeros((540,960,3), np.uint8)\n",
    "people_count = 0\n",
    "shift = 0\n",
    "wait_flag = False\n",
    "\n",
    "cv2.createTrackbar('low_blue', 'mask1', data[0],255, nothing)\n",
    "cv2.createTrackbar('low_green', 'mask1', data[1],255, nothing)\n",
    "cv2.createTrackbar('low_red', 'mask1', data[2],255, nothing)\n",
    "cv2.createTrackbar('high_blue', 'mask1', data[3],255, nothing)\n",
    "cv2.createTrackbar('high_green', 'mask1', data[4],255, nothing)\n",
    "cv2.createTrackbar('high_red', 'mask1', data[5],255, nothing)\n",
    "\n",
    "start_time = time.time()\n",
    "\n",
    "while (True):\n",
    "    success, frame = cam.read()\n",
    "    frame = cv2.resize(frame, (960,540))\n",
    "\n",
    "    if (not success):\n",
    "        break\n",
    "\n",
    "    h, w, _ = frame.shape\n",
    "\n",
    "    low_blue = cv2.getTrackbarPos('low_blue', 'mask1')\n",
    "    low_green = cv2.getTrackbarPos('low_green', 'mask1')\n",
    "    low_red = cv2.getTrackbarPos('low_red', 'mask1')\n",
    "    high_blue = cv2.getTrackbarPos('high_blue', 'mask1')\n",
    "    high_green = cv2.getTrackbarPos('high_green', 'mask1')\n",
    "    high_red = cv2.getTrackbarPos('high_red', 'mask1')\n",
    "\n",
    "    colors_info = [low_blue, low_green, low_red, high_blue,high_green,high_red]\n",
    "    \n",
    "\n",
    "\n",
    "    avg = cv2.addWeighted(avg, 0.94,frame, 0.06, 0)\n",
    "\n",
    "    current_frame = cv2.absdiff(frame, avg)\n",
    "\n",
    "    #print((cv2.absdiff(previous_frame, current_frame)).mean())\n",
    "    pr_cur = cv2.absdiff(previous_frame, current_frame)\n",
    "    pr_cur_mean = cv2.absdiff(previous_frame, current_frame).mean()\n",
    "    #print(previous_frame.shape, current_frame.shape)\n",
    "    #print(current_frame.mean())\n",
    "\n",
    "    mask1 = cv2.inRange(current_frame, (low_blue,low_green,low_red), (high_blue,high_green,high_red))\n",
    "\n",
    "    ksz = 7\n",
    "    kernel = np.ones((ksz,ksz))\n",
    "    dilate = cv2.dilate(mask1,kernel)\n",
    "    eroded = cv2.dilate(dilate,kernel)\n",
    "\n",
    "    output = cv2.connectedComponentsWithStats(eroded)\n",
    "    num_comp = output[0]\n",
    "    stats = output[2]\n",
    "\n",
    "    \n",
    "    for i in range(1,num_comp):\n",
    "        top = stats[i, cv2.CC_STAT_TOP]\n",
    "        left = stats[i, cv2.CC_STAT_LEFT]\n",
    "        width = stats[i, cv2.CC_STAT_WIDTH]\n",
    "        height = stats[i, cv2.CC_STAT_HEIGHT]\n",
    "        area = stats[i, cv2.CC_STAT_AREA]\n",
    "\n",
    "        if (area > 15000) & (width > 150):\n",
    "            cv2.rectangle(current_frame, (left, top), (left + width, top + height), (123, 231, 51), 5)\n",
    "            left_Artem.append(left)\n",
    "\n",
    "            end_time = time.time()\n",
    "            obj_time.append(end_time - start_time)\n",
    "            shift+=1\n",
    "    \n",
    "            if (len(left_Artem) >= 10):\n",
    "                \n",
    "\n",
    "                y = np.array(left_Artem[shift-10:shift])\n",
    "                x = np.array(obj_time[shift-10:shift])\n",
    "\n",
    "            \n",
    "            \n",
    "                slope_coeff, _ = np.polyfit(x, y, 1)\n",
    "                if (slope_coeff > 140) & (wait_flag == True)  & (pr_cur_mean > 4):\n",
    "                    people_count+=1\n",
    "                    print(people_count)\n",
    "                    wait_flag = False\n",
    "\n",
    "                if (slope_coeff < -140) & (wait_flag == True) & (pr_cur_mean > 4):\n",
    "                    people_count-=1\n",
    "                    print(people_count)\n",
    "                    wait_flag = False\n",
    "                break\n",
    "            \n",
    "            ''' \n",
    "            if (left > 550) & (left < 650) & (wait_flag == True) & (pr_cur_mean > 4):\n",
    "                people_count +=1\n",
    "                print(people_count)\n",
    "                wait_flag = False\n",
    "\n",
    "            if (left > 700) & (wait_flag == True) & (pr_cur_mean > 4):\n",
    "                people_count-=1\n",
    "                print(people_count)\n",
    "                wait_flag = False\n",
    "            break\n",
    "               ''' \n",
    "\n",
    "        \n",
    "\n",
    "    if (pr_cur_mean < 0.3):\n",
    "        wait_flag = True\n",
    "\n",
    "    #print(pr_cur_mean)\n",
    "    \n",
    "    \n",
    "\n",
    "    \n",
    "\n",
    "\n",
    "\n",
    "    cv2.imshow('mask1', mask1)\n",
    "        \n",
    "\n",
    "\n",
    "\n",
    "    cv2.imshow(\"avg\", current_frame)\n",
    "\n",
    "    previous_frame = current_frame.copy()\n",
    "\n",
    "    key = cv2.waitKey(30)# & 0xFF\n",
    "\n",
    "    if (key == ord('q')):\n",
    "        break\n",
    "\n",
    "with open ('colors.json', 'w') as f:\n",
    "    try:\n",
    "        json.dump(colors_info, f)\n",
    "    except:\n",
    "        json.dump(\"Issue with record\", f)\n",
    "\n",
    "cam.release()\n",
    "cv2.destroyAllWindows()\n",
    "cv2.waitKey(30)"
   ]
  },
  {
   "cell_type": "code",
   "execution_count": 104,
   "metadata": {},
   "outputs": [
    {
     "data": {
      "text/plain": [
       "[0, 0, 394, 455, 482, 878, 860, 840, 820, 868]"
      ]
     },
     "execution_count": 104,
     "metadata": {},
     "output_type": "execute_result"
    }
   ],
   "source": [
    "shiftt = 20\n",
    "left_Artem[shiftt: shiftt+10]"
   ]
  },
  {
   "cell_type": "code",
   "execution_count": 78,
   "metadata": {},
   "outputs": [
    {
     "data": {
      "text/plain": [
       "26"
      ]
     },
     "execution_count": 78,
     "metadata": {},
     "output_type": "execute_result"
    }
   ],
   "source": [
    "num_list = list(range(1, len(left_Artem) + 1))\n",
    "len(num_list)"
   ]
  },
  {
   "cell_type": "code",
   "execution_count": 7,
   "metadata": {},
   "outputs": [
    {
     "data": {
      "text/plain": [
       "<Axes: >"
      ]
     },
     "execution_count": 7,
     "metadata": {},
     "output_type": "execute_result"
    },
    {
     "data": {
      "image/png": "[encoded data removed]",
      "text/plain": [
       "<Figure size 640x480 with 1 Axes>"
      ]
     },
     "metadata": {},
     "output_type": "display_data"
    }
   ],
   "source": [
    "import seaborn as sns\n",
    "num_list = list(range(1, len(left_Artem) + 1))\n",
    "sns.scatterplot(x=obj_time,\n",
    "                y=left_Artem)"
   ]
  },
  {
   "cell_type": "code",
   "execution_count": 5,
   "metadata": {},
   "outputs": [
    {
     "data": {
      "text/plain": [
       "0.22580599784851074"
      ]
     },
     "execution_count": 5,
     "metadata": {},
     "output_type": "execute_result"
    }
   ],
   "source": [
    "obj_time[3]"
   ]
  },
  {
   "cell_type": "code",
   "execution_count": 7,
   "metadata": {},
   "outputs": [
    {
     "data": {
      "text/plain": [
       "0.2258"
      ]
     },
     "execution_count": 7,
     "metadata": {},
     "output_type": "execute_result"
    }
   ],
   "source": [
    "round(obj_time[3], 4)"
   ]
  }
 ],
 "metadata": {
  "kernelspec": {
   "display_name": "Python 3",
   "language": "python",
   "name": "python3"
  },
  "language_info": {
   "codemirror_mode": {
    "name": "ipython",
    "version": 3
   },
   "file_extension": ".py",
   "mimetype": "text/x-python",
   "name": "python",
   "nbconvert_exporter": "python",
   "pygments_lexer": "ipython3",
   "version": "3.11.7"
  }
 },
 "nbformat": 4,
 "nbformat_minor": 2
}
